{
 "cells": [
  {
   "cell_type": "markdown",
   "metadata": {},
   "source": [
    "#### 1. Download the shopify dataset:"
   ]
  },
  {
   "cell_type": "code",
   "execution_count": 4,
   "metadata": {
    "tags": []
   },
   "outputs": [
    {
     "name": "stdout",
     "output_type": "stream",
     "text": [
      "env: BASE_DIR=/home/jupyter/\n"
     ]
    }
   ],
   "source": [
    "%env BASE_DIR=/home/jupyter/"
   ]
  },
  {
   "cell_type": "code",
   "execution_count": 5,
   "metadata": {
    "tags": []
   },
   "outputs": [
    {
     "name": "stdout",
     "output_type": "stream",
     "text": [
      "Copying gs://cs327e-open-access-2/shopify.zip...\n",
      "/ [1 files][  3.2 MiB/  3.2 MiB]                                                \n",
      "Operation completed over 1 objects/3.2 MiB.                                      \n"
     ]
    }
   ],
   "source": [
    "!gsutil cp gs://cs327e-open-access-2/shopify.zip $BASE_DIR"
   ]
  },
  {
   "cell_type": "code",
   "execution_count": 6,
   "metadata": {
    "tags": []
   },
   "outputs": [
    {
     "name": "stdout",
     "output_type": "stream",
     "text": [
      "Archive:  /home/jupyter//shopify.zip\n",
      "   creating: shopify/\n",
      "  inflating: __MACOSX/._shopify      \n",
      "  inflating: shopify/apps_categories.csv  \n",
      "  inflating: __MACOSX/shopify/._apps_categories.csv  \n",
      "  inflating: shopify/categories.csv  \n",
      "  inflating: __MACOSX/shopify/._categories.csv  \n",
      "  inflating: shopify/reviews.csv     \n",
      "  inflating: __MACOSX/shopify/._reviews.csv  \n",
      "  inflating: shopify/.DS_Store       \n",
      "  inflating: __MACOSX/shopify/._.DS_Store  \n",
      "  inflating: shopify/key_benefits.csv  \n",
      "  inflating: __MACOSX/shopify/._key_benefits.csv  \n",
      "  inflating: shopify/pricing_plan_features.csv  \n",
      "  inflating: __MACOSX/shopify/._pricing_plan_features.csv  \n",
      "  inflating: shopify/pricing_plans.csv  \n",
      "  inflating: __MACOSX/shopify/._pricing_plans.csv  \n",
      "  inflating: shopify/apps.csv        \n",
      "  inflating: __MACOSX/shopify/._apps.csv  \n"
     ]
    }
   ],
   "source": [
    "!unzip $BASE_DIR/shopify.zip"
   ]
  },
  {
   "cell_type": "markdown",
   "metadata": {},
   "source": [
    "#### 2. Consolidate apps_categories and categories & pricing_plans and pricing_plan_features"
   ]
  },
  {
   "cell_type": "code",
   "execution_count": 9,
   "metadata": {
    "tags": []
   },
   "outputs": [],
   "source": [
    "import pandas as pd\n",
    "def merge_fun(left_df, right_df, left_key, right_key, howto):\n",
    "    merged_df = pd.merge(left_df, right_df, left_on=left_key, right_on=right_key, how=howto)\n",
    "    merged_df.drop(left_key,axis=1, inplace=True)\n",
    "    #print(merged_df)\n",
    "    return merged_df\n",
    "\n",
    "\n",
    "# Load the CSV files into pandas DataFrames\n",
    "csvLeft = pd.read_csv('/home/jupyter/shopify/pricing_plans.csv')\n",
    "csvRight = pd.read_csv('/home/jupyter/shopify/pricing_plan_features.csv')\n",
    "leftkey=['app_id','id']\n",
    "rightkey=['app_id','pricing_plan_id']\n",
    "\n",
    "merged_df=merge_fun(csvLeft, csvRight, leftkey, rightkey, 'left' )\n",
    "#save new csv file\n",
    "merged_df.to_csv('/home/jupyter/shopify/pricing_plan_details.csv', index=False)\n",
    "\n",
    "csvLeft = pd.read_csv('/home/jupyter/shopify/apps_categories.csv')\n",
    "csvRight = pd.read_csv('/home/jupyter/shopify/categories.csv')\n",
    "\n",
    "merged_df=merge_fun(csvLeft, csvRight, 'category_id','id','inner')\n",
    "#save new csv file\n",
    "merged_df.to_csv('/home/jupyter/shopify/category.csv', index=False)\n"
   ]
  },
  {
   "cell_type": "markdown",
   "metadata": {},
   "source": [
    "#### 3. Create and populate Firestore database"
   ]
  },
  {
   "cell_type": "code",
   "execution_count": 5,
   "metadata": {
    "tags": []
   },
   "outputs": [
    {
     "data": {
      "text/plain": [
       "[update_time {\n",
       "   seconds: 1711668451\n",
       "   nanos: 649219000\n",
       " },\n",
       " update_time {\n",
       "   seconds: 1711668451\n",
       "   nanos: 649219000\n",
       " },\n",
       " update_time {\n",
       "   seconds: 1711668451\n",
       "   nanos: 649219000\n",
       " },\n",
       " update_time {\n",
       "   seconds: 1711668451\n",
       "   nanos: 649219000\n",
       " },\n",
       " update_time {\n",
       "   seconds: 1711668451\n",
       "   nanos: 649219000\n",
       " },\n",
       " update_time {\n",
       "   seconds: 1711668451\n",
       "   nanos: 649219000\n",
       " },\n",
       " update_time {\n",
       "   seconds: 1711668451\n",
       "   nanos: 649219000\n",
       " },\n",
       " update_time {\n",
       "   seconds: 1711668451\n",
       "   nanos: 649219000\n",
       " },\n",
       " update_time {\n",
       "   seconds: 1711668451\n",
       "   nanos: 649219000\n",
       " },\n",
       " update_time {\n",
       "   seconds: 1711668451\n",
       "   nanos: 649219000\n",
       " },\n",
       " update_time {\n",
       "   seconds: 1711668451\n",
       "   nanos: 649219000\n",
       " },\n",
       " update_time {\n",
       "   seconds: 1711668451\n",
       "   nanos: 649219000\n",
       " }]"
      ]
     },
     "execution_count": 5,
     "metadata": {},
     "output_type": "execute_result"
    }
   ],
   "source": [
    "import pandas as pd\n",
    "from google.cloud import firestore\n",
    "from datetime import datetime\n",
    "\n",
    "db = firestore.Client()\n",
    "batch = db.batch()\n",
    "df = pd.read_csv('/home/jupyter/shopify/categories.csv', sep=',', header=0, lineterminator='\\n')\n",
    "rows = df.values.tolist()\n",
    "\n",
    "for row in rows: \n",
    "    record = {}\n",
    "    record['id'] = row[0]\n",
    "    record['title'] = row[1]\n",
    "    \n",
    "    categories_ref = db.collection('categories').document(row[0])\n",
    "    batch.set(categories_ref, record)\n",
    "    \n",
    "batch.commit()"
   ]
  },
  {
   "cell_type": "code",
   "execution_count": 8,
   "metadata": {
    "tags": []
   },
   "outputs": [
    {
     "name": "stdout",
     "output_type": "stream",
     "text": [
      "Sub Deletion complete!\n",
      "delete apps done\n"
     ]
    }
   ],
   "source": [
    "from google.cloud import firestore\n",
    "db = firestore.Client()\n",
    "\n",
    "def delete_subcollections(db, collection_ref, subcollection_name, batch_size):\n",
    "    apps = collection_ref.stream()\n",
    "    for app_doc in apps:\n",
    "        subcollection_ref = app_doc.reference.collection(subcollection_name)\n",
    "        docs = subcollection_ref.limit(batch_size).stream()\n",
    "        deleted = 0\n",
    "        batch = db.batch()\n",
    "        for doc in docs:\n",
    "            batch.delete(doc.reference)\n",
    "            deleted += 1\n",
    "            if deleted == batch_size:\n",
    "                batch.commit()\n",
    "                batch = db.batch()\n",
    "                deleted = 0\n",
    "        if batch:\n",
    "            batch.commit()\n",
    "\n",
    "\n",
    "collection_ref = db.collection('apps')\n",
    "subcollection_name = 'reviews'  \n",
    "delete_subcollections(db, collection_ref, subcollection_name, 10)  # Adjust batch_size as needed\n",
    "subcollection_name = 'key_benefits'\n",
    "delete_subcollections(db, collection_ref, subcollection_name, 10)  # Adjust batch_size as needed\n",
    "\n",
    "print(\"Sub Deletion complete!\")\n",
    "\n",
    "\n",
    "# Delete documents in batches of 500\n",
    "batch = db.batch()\n",
    "num_mutations = 0\n",
    "for doc in collection_ref.stream():\n",
    "    batch.delete(doc.reference)\n",
    "    num_mutations = num_mutations+1\n",
    "    if num_mutations >= 500:\n",
    "        batch.commit()\n",
    "        batch = db.batch()\n",
    "\n",
    "# Commit any remaining deletions\n",
    "batch.commit() \n",
    "print(\"delete apps done\")"
   ]
  },
  {
   "cell_type": "code",
   "execution_count": 10,
   "metadata": {},
   "outputs": [
    {
     "name": "stdout",
     "output_type": "stream",
     "text": [
      "polulation done\n"
     ]
    }
   ],
   "source": [
    "import pandas as pd\n",
    "from google.cloud import firestore\n",
    "from datetime import datetime\n",
    "import uuid\n",
    "\n",
    "db = firestore.Client()\n",
    "batch = db.batch()\n",
    "\n",
    "df = pd.read_csv('/home/jupyter/shopify/apps.csv', sep=',', header=0, lineterminator='\\n')\n",
    "app_rows = df.values.tolist()\n",
    "df = pd.read_csv('/home/jupyter/shopify/category.csv', sep=',', header=0, lineterminator='\\n')\n",
    "category_rows = df.values.tolist()\n",
    "df = pd.read_csv('/home/jupyter/shopify/categories.csv', sep=',', header=0, lineterminator='\\n')\n",
    "categories_rows = df.values.tolist()\n",
    "df = pd.read_csv('/home/jupyter/shopify/reviews.csv', sep=',', header=0, lineterminator='\\n')\n",
    "review_rows = df.values.tolist()\n",
    "review_count = len(review_rows)\n",
    "df = pd.read_csv('/home/jupyter/shopify/key_benefits.csv', sep=',', header=0, lineterminator='\\n')\n",
    "key_benefit_rows = df.values.tolist()\n",
    "benefit_count=len(key_benefit_rows)\n",
    "df = pd.read_csv('/home/jupyter/shopify/pricing_plan_details.csv', sep=',', header=0, lineterminator='\\n')\n",
    "pricing_plan_detail_rows = df.values.tolist()\n",
    "\n",
    "from collections import defaultdict\n",
    "\n",
    "# Use defaultdict to efficiently group data by app_id and plan_id\n",
    "data_by_app_plan = defaultdict(dict)\n",
    "\n",
    "for pricing_plan_detail_row in pricing_plan_detail_rows:\n",
    "    app_id = pricing_plan_detail_row[0]\n",
    "    plan_id = pricing_plan_detail_row[1]\n",
    "    title = pricing_plan_detail_row[2]  \n",
    "    price = pricing_plan_detail_row[3]  \n",
    "    feature = pricing_plan_detail_row[4]\n",
    "    data = data_by_app_plan.get((app_id,), {'title': title, 'price': price, 'features': []})\n",
    "    data['features'].append(feature)  # Append feature to existing list\n",
    "    data_by_app_plan[(app_id,)] = data\n",
    "    \n",
    "for app_row in app_rows:\n",
    "    app_id=app_row[0]\n",
    "    app_category=[]\n",
    "    for cat in category_rows:\n",
    "        if cat[0] == app_id:\n",
    "            app_category.append(cat[2])\n",
    "    app_record = {}\n",
    "    app_record['id'] = app_row[0]\n",
    "    app_record['url'] = app_row[1]\n",
    "    app_record['title'] = app_row[2]\n",
    "    app_record['developer'] = app_row[3]\n",
    "    app_record['developer_link'] = app_row[4]\n",
    "    app_record['icon'] = app_row[5]\n",
    "    app_record['rating'] = app_row[6]\n",
    "    app_record['reviews_count'] = app_row[7]\n",
    "    app_record['category'] = app_category  \n",
    "    app_ref = db.collection('apps').document(app_row[0])  \n",
    "    batch.set(app_ref, app_record)\n",
    "    \n",
    "    # Create or update subcollection document with data\n",
    "    data = data_by_app_plan.get((app_id,),{})  # Get data for app_id (plan_id is None)\n",
    "\n",
    "    pricing_plan_ref = app_ref.collection('pricing_plan_details').document(app_id)  # Use app_id as document ID\n",
    "    batch.set(pricing_plan_ref, data)\n",
    " \n",
    "\n",
    "    for key_benefit_row in key_benefit_rows:\n",
    "        if app_row[0] == key_benefit_row[0]: \n",
    "            key_benefit_record = {}\n",
    "            unique_id= unique_id = \"one\"+str(uuid.uuid4())\n",
    "            key_benefit_record['title'] = key_benefit_row[1]\n",
    "            key_benefit_record['description'] = key_benefit_row[2]\n",
    "            key_benefit_ref = app_ref.collection('key_benefits').document(unique_id) \n",
    "            batch.set(key_benefit_ref,key_benefit_record) \n",
    "               \n",
    "\n",
    "    for review_row in review_rows:\n",
    "        if app_row[0] == review_row[0]:\n",
    "            unique_id = \"one\"+str(uuid.uuid4())\n",
    "\n",
    "            review_record = {}\n",
    "            review_record['author'] = review_row[1]\n",
    "            review_record['rating'] = review_row[2]\n",
    "            review_record['posted_at'] = review_row[3]\n",
    "            review_ref = app_ref.collection('reviews').document(unique_id)\n",
    "            batch.set(review_ref, review_record)\n",
    "            \n",
    "    batch.commit()\n",
    "print(\"polulation done\")"
   ]
  },
  {
   "cell_type": "markdown",
   "metadata": {},
   "source": [
    "#### 3. Get results queries"
   ]
  },
  {
   "cell_type": "markdown",
   "metadata": {},
   "source": [
    "### Get a count of the number of documents in each collection and subcollection."
   ]
  },
  {
   "cell_type": "markdown",
   "metadata": {},
   "source": [
    "### a. Get a count of the number of documents in collection apps"
   ]
  },
  {
   "cell_type": "code",
   "execution_count": 11,
   "metadata": {
    "tags": []
   },
   "outputs": [
    {
     "name": "stdout",
     "output_type": "stream",
     "text": [
      "Number of apps document:  3547\n"
     ]
    }
   ],
   "source": [
    "# Count documents in apps collection\n",
    "import pandas as pd\n",
    "from google.cloud import firestore\n",
    "from datetime import datetime\n",
    "\n",
    "db = firestore.Client()\n",
    "apps_ref = db.collection('apps')\n",
    "docs = apps_ref.get()\n",
    "num=len(docs)\n",
    "print(\"Number of apps document: \",num)"
   ]
  },
  {
   "cell_type": "markdown",
   "metadata": {
    "tags": []
   },
   "source": [
    "### b. Get a count of the number of documents in collection categories"
   ]
  },
  {
   "cell_type": "code",
   "execution_count": 19,
   "metadata": {
    "tags": []
   },
   "outputs": [
    {
     "name": "stdout",
     "output_type": "stream",
     "text": [
      "Number of categories document:  12\n"
     ]
    }
   ],
   "source": [
    "import pandas as pd \n",
    "from google.cloud import firestore \n",
    "from google.cloud.firestore_v1 import Client\n",
    "\n",
    "db = firestore.Client(project=\"daring-pilot-418321\")\n",
    "apps_ref = db.collection('categories') \n",
    "docs = apps_ref.get() \n",
    "num=len(docs) \n",
    "print(\"Number of categories document: \",num)"
   ]
  },
  {
   "cell_type": "markdown",
   "metadata": {},
   "source": [
    "### c. get a count of the number of documents in each subcollection"
   ]
  },
  {
   "cell_type": "code",
   "execution_count": 2,
   "metadata": {
    "tags": []
   },
   "outputs": [
    {
     "name": "stdout",
     "output_type": "stream",
     "text": [
      "Number of document count for pricing_plan_details: 6275\n"
     ]
    }
   ],
   "source": [
    "import pandas as pd\n",
    "from google.cloud import firestore\n",
    "df = pd.read_csv('/home/jupyter/shopify/pricing_plan_details.csv', sep=',', header=0, lineterminator='\\n')\n",
    "pricing_plan_detail_rows = df.values.tolist()\n",
    "\n",
    "from collections import defaultdict\n",
    "\n",
    "# Use defaultdict to efficiently group data by app_id and plan_id\n",
    "data_by_app_plan = defaultdict(dict)\n",
    "\n",
    "for pricing_plan_detail_row in pricing_plan_detail_rows:\n",
    "    app_id = pricing_plan_detail_row[0]\n",
    "    plan_id = pricing_plan_detail_row[1] \n",
    "    feature = pricing_plan_detail_row[2]\n",
    "    data = data_by_app_plan.get((app_id,), {'features': []})\n",
    "    data['features'].append(feature)  # Append feature to existing list\n",
    "    data_by_app_plan[(app_id,)] = data\n",
    "total_count = sum(len(v) for v in data_by_app_plan.values())\n",
    "print(\"Number of document count for pricing_plan_details:\", total_count)\n"
   ]
  },
  {
   "cell_type": "code",
   "execution_count": 3,
   "metadata": {},
   "outputs": [
    {
     "name": "stdout",
     "output_type": "stream",
     "text": [
      "Number of Key Benefits document:  9541\n",
      "Number of Reviews document:  124601\n"
     ]
    }
   ],
   "source": [
    "import pandas as pd\n",
    "from google.cloud import firestore\n",
    "from datetime import datetime\n",
    "df = pd.read_csv('/home/jupyter/shopify/reviews.csv', sep=',', header=0, lineterminator='\\n')\n",
    "reviews_num = df.shape[0]\n",
    "df = pd.read_csv('/home/jupyter/shopify/key_benefits.csv', sep=',', header=0, lineterminator='\\n')\n",
    "benefits_num = df.shape[0]\n",
    "\n",
    "print(\"Number of Key Benefits document: \",benefits_num)\n",
    "print(\"Number of Reviews document: \",reviews_num)"
   ]
  },
  {
   "cell_type": "markdown",
   "metadata": {},
   "source": [
    "### List the top 10 \"Productivity\" apps (whose category.title = \"Productivity\") sorted by rating in descending order. \n",
    "Return the id, title, developer, rating and reviews_count for those apps."
   ]
  },
  {
   "cell_type": "code",
   "execution_count": 85,
   "metadata": {
    "tags": []
   },
   "outputs": [
    {
     "name": "stdout",
     "output_type": "stream",
     "text": [
      "App ID: fe5ae45c-379c-42bf-be7d-b5f6e15fc13c\n",
      "App Title: Customer Tags\n",
      "Developer: Union Works Apps\n",
      "Rating: 5.0\n",
      "Review Count: 21\n",
      "--------------------\n",
      "App ID: f99bb1e3-f326-4f10-8901-491652e9809b\n",
      "App Title: Order Tagger\n",
      "Developer: Union Works Apps\n",
      "Rating: 5.0\n",
      "Review Count: 68\n",
      "--------------------\n",
      "App ID: f864e3bd-da0e-41dc-be65-984325331475\n",
      "App Title: SilkRoad ‑ Facebook Auto Ads\n",
      "Developer: SilkRoad\n",
      "Rating: 5.0\n",
      "Review Count: 2\n",
      "--------------------\n",
      "App ID: f5344e64-9cda-4d97-b198-2aaeb5170518\n",
      "App Title: Xporter Data Export Tool\n",
      "Developer: Modd Apps Inc.\n",
      "Rating: 5.0\n",
      "Review Count: 223\n",
      "--------------------\n",
      "App ID: ed77a32d-0fa3-458b-b639-e01ea7b78ec0\n",
      "App Title: FraudBlock Fraud Prevention\n",
      "Developer: ShopFox\n",
      "Rating: 5.0\n",
      "Review Count: 6\n",
      "--------------------\n",
      "App ID: e0e231d6-4988-4a8c-ad84-cf18d0f38738\n",
      "App Title: Automation Fox\n",
      "Developer: Automation Fox\n",
      "Rating: 5.0\n",
      "Review Count: 1\n",
      "--------------------\n",
      "App ID: d75fa395-3a4d-41c3-88d1-2f802c1e2411\n",
      "App Title: AirPower\n",
      "Developer: BaseGenius\n",
      "Rating: 5.0\n",
      "Review Count: 1\n",
      "--------------------\n",
      "App ID: d0be03ff-f74d-4fb5-8d2c-79541a1aea1b\n",
      "App Title: Excelify\n",
      "Developer: Excelify.io\n",
      "Rating: 5.0\n",
      "Review Count: 178\n",
      "--------------------\n",
      "App ID: c9a86f8c-817e-4bb5-bbdd-e0e669bd7816\n",
      "App Title: UPC Code Manager\n",
      "Developer: Ventures & Adventures\n",
      "Rating: 5.0\n",
      "Review Count: 1\n",
      "--------------------\n",
      "App ID: c7578030-19fd-42e1-a5a5-03c7861220aa\n",
      "App Title: EzySlips ‑ Shipping Automation\n",
      "Developer: Onjection Labs\n",
      "Rating: 5.0\n",
      "Review Count: 219\n",
      "--------------------\n"
     ]
    },
    {
     "name": "stderr",
     "output_type": "stream",
     "text": [
      "/opt/conda/lib/python3.10/site-packages/google/cloud/firestore_v1/base_collection.py:295: UserWarning: Detected filter using positional arguments. Prefer using the 'filter' keyword argument instead.\n",
      "  return query.where(field_path, op_string, value)\n"
     ]
    }
   ],
   "source": [
    "import pandas as pd\n",
    "from google.cloud import firestore\n",
    "\n",
    "db = firestore.Client()\n",
    "apps_ref = db.collection('apps')\n",
    "\n",
    "# Query for \"Productivity\" apps\n",
    "query = (apps_ref\n",
    "         .where('category', 'array_contains', 'Productivity')\n",
    "         .order_by('rating', direction=firestore.Query.DESCENDING).limit(10))\n",
    "         \n",
    "# Execute the query\n",
    "results = query.stream()\n",
    "\n",
    "# Process and print the results\n",
    "for result in results:\n",
    "    app_data = result.to_dict()\n",
    "    print(f\"App ID: {app_data['id']}\")\n",
    "    print(f\"App Title: {app_data['title']}\")\n",
    "    print(f\"Developer: {app_data['developer']}\")\n",
    "    print(f\"Rating: {app_data['rating']}\")\n",
    "    print(f\"Review Count: {app_data['reviews_count']}\")\n",
    "    print(\"-\" * 20)  # Optional separator between apps\n",
    "\n"
   ]
  },
  {
   "cell_type": "markdown",
   "metadata": {},
   "source": [
    "### List the top 10 apps with the highest number of reviews (based on apps.review_count). \n",
    "Return the id, title, developer, rating and reviews_count for those apps. \n",
    "Sort the results by reviews_count in descending order\n"
   ]
  },
  {
   "cell_type": "code",
   "execution_count": 56,
   "metadata": {
    "tags": []
   },
   "outputs": [
    {
     "name": "stdout",
     "output_type": "stream",
     "text": [
      "App ID: d9f142ee-b141-4dc4-9353-173db61d2eb0\n",
      "App Title: Privy ‑ Exit Pop Ups & Email\n",
      "Developer: Privy\n",
      "Rating: 4.7\n",
      "Review Count: 23078\n",
      "--------------------\n",
      "App ID: 78ea0810-c008-4a4e-a82f-de0c790e3286\n",
      "App Title: Free Shipping Bar\n",
      "Developer: Hextom\n",
      "Rating: 4.9\n",
      "Review Count: 8737\n",
      "--------------------\n",
      "App ID: b88488b0-9912-44d3-b736-224c36f09d95\n",
      "App Title: Sales Pop ‑ Popup Notification\n",
      "Developer: CartKit\n",
      "Rating: 4.8\n",
      "Review Count: 6905\n",
      "--------------------\n",
      "App ID: e528a60e-94f8-4e92-80e2-5bc6013b8283\n",
      "App Title: BEST Currency Converter\n",
      "Developer: Grizzly Apps\n",
      "Rating: 4.8\n",
      "Review Count: 5986\n",
      "--------------------\n",
      "App ID: be2640c4-01b5-4d52-9f68-cae8c0734d0d\n",
      "App Title: Recart FB Messenger Marketing\n",
      "Developer: Recart\n",
      "Rating: 4.8\n",
      "Review Count: 5596\n",
      "--------------------\n",
      "App ID: 70bff9e0-4316-4cc6-84ce-92fcd1bc6925\n",
      "App Title: EU Cookie Bar ‑ Cookie GDPR\n",
      "Developer: Booster Apps\n",
      "Rating: 4.7\n",
      "Review Count: 5259\n",
      "--------------------\n",
      "App ID: 171816e2-27d4-4552-a65e-ab44a312fe04\n",
      "App Title: Sales Pop Master ‑ Countdown\n",
      "Developer: Autoketing\n",
      "Rating: 4.8\n",
      "Review Count: 4931\n",
      "--------------------\n",
      "App ID: 9025eff0-d714-4df1-930f-43f5582979ad\n",
      "App Title: Ultimate Sales Boost\n",
      "Developer: Hextom\n",
      "Rating: 4.8\n",
      "Review Count: 4847\n",
      "--------------------\n",
      "App ID: 404183ac-6d52-4960-85d2-8350f37c2f0b\n",
      "App Title: Ads by Varinode\n",
      "Developer: Varinode, Inc.\n",
      "Rating: 4.9\n",
      "Review Count: 4245\n",
      "--------------------\n",
      "App ID: 0380c5ed-7b91-4d4b-9a4e-f6a1c50269dd\n",
      "App Title: Quick Announcement Bar\n",
      "Developer: Hextom\n",
      "Rating: 4.9\n",
      "Review Count: 4237\n",
      "--------------------\n"
     ]
    }
   ],
   "source": [
    "query = db.collection(\"apps\").order_by(\"reviews_count\", direction=\"DESCENDING\").limit(10)\n",
    "app_query=query.select([\"id\",\"title\",\"developer\", \"rating\",\"reviews_count\"])\n",
    "\n",
    "top_apps=app_query.get()\n",
    "for app in top_apps:\n",
    "    app_data = app.to_dict()\n",
    "    print(f\"App ID: {app_data['id']}\")\n",
    "    print(f\"App Title: {app_data['title']}\")\n",
    "    print(f\"Developer: {app_data['developer']}\")\n",
    "    print(f\"Rating: {app_data['rating']}\")\n",
    "    print(f\"Review Count: {app_data['reviews_count']}\")\n",
    "    print(\"-\" * 20)  # Optional separator between apps\n"
   ]
  },
  {
   "cell_type": "code",
   "execution_count": null,
   "metadata": {},
   "outputs": [],
   "source": []
  }
 ],
 "metadata": {
  "environment": {
   "kernel": "python3",
   "name": "common-cpu.m119",
   "type": "gcloud",
   "uri": "us-docker.pkg.dev/deeplearning-platform-release/gcr.io/base-cpu:m119"
  },
  "kernelspec": {
   "display_name": "Python 3",
   "language": "python",
   "name": "python3"
  },
  "language_info": {
   "codemirror_mode": {
    "name": "ipython",
    "version": 3
   },
   "file_extension": ".py",
   "mimetype": "text/x-python",
   "name": "python",
   "nbconvert_exporter": "python",
   "pygments_lexer": "ipython3",
   "version": "3.10.14"
  }
 },
 "nbformat": 4,
 "nbformat_minor": 4
}
